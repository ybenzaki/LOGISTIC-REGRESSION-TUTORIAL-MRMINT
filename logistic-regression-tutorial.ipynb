{
 "cells": [
  {
   "cell_type": "markdown",
   "metadata": {},
   "source": [
    "## Mr. Mint : Le blog francophone dédié au Machine Learning\n",
    "\n",
    "## Tutorial sur l'implémentation de régression logistique sur le jeu de données Iris\n",
    "\n",
    "### Ce Notebook est l'implémentation de régression logistique sur le jeu de données Iris . Il sert comme support de [l'article du même tutorial] (https://mrmint.fr)\n",
    "\n",
    "\n",
    "#### Note : Ce notebook est écrit en Python 3 et utilise la distribution [Anaconda](https://www.anaconda.com)"
   ]
  },
  {
   "cell_type": "markdown",
   "metadata": {},
   "source": [
    "### Chargement des diverses librairies utiles pour ce notebook "
   ]
  },
  {
   "cell_type": "code",
   "execution_count": 1,
   "metadata": {},
   "outputs": [],
   "source": [
    "# chargement de bibliothéques \n",
    "\"\"\"\n",
    "instruction specifique pour utiliser matplotlib dans un notebook \n",
    "quand on utilise les notebooks Jupyter pour utiliser Matplotlib\n",
    "\"\"\"\n",
    "%matplotlib inline  \n",
    "\n",
    "import numpy as np  # Chargement de numpy\n",
    "import matplotlib.pyplot as plt # import de Matplotlib\n",
    "from sklearn import datasets # chargement du package datasets contenant plusieurs jeu de données\n",
    "from sklearn.linear_model import LogisticRegression # import de classe LogisticRegression qui permet d'en entrainer un"
   ]
  },
  {
   "cell_type": "code",
   "execution_count": 2,
   "metadata": {},
   "outputs": [],
   "source": [
    "# importer le jeux données \n",
    "iris = datasets.load_iris()"
   ]
  },
  {
   "cell_type": "code",
   "execution_count": 3,
   "metadata": {
    "scrolled": false
   },
   "outputs": [],
   "source": [
    "X = iris.data[:, :2] # Utiliser les deux premiers colonnes afin d'avoir un problème de classification binaire. \n",
    "y = (iris.target != 0) * 1 # re-etiquettage des fleurs pour se retrouver avec deux classes au lieu de trois"
   ]
  },
  {
   "cell_type": "markdown",
   "metadata": {},
   "source": [
    "### Visualisation du jeu de données"
   ]
  },
  {
   "cell_type": "code",
   "execution_count": 4,
   "metadata": {
    "scrolled": true
   },
   "outputs": [
    {
     "data": {
      "text/plain": [
       "Text(0,0.5,'Sepal Width')"
      ]
     },
     "execution_count": 4,
     "metadata": {},
     "output_type": "execute_result"
    },
    {
     "data": {
      "image/png": "[encoded data removed]",
      "text/plain": [
       "<matplotlib.figure.Figure at 0x7f314abed4a8>"
      ]
     },
     "metadata": {
      "needs_background": "light"
     },
     "output_type": "display_data"
    }
   ],
   "source": [
    "plt.figure(figsize=(10,6)) # Taille de la figure\n",
    "plt.scatter(X[y == 0][:, 0], X[y == 0][:, 1], color='g', label='0') # En Vert les fleurs ayant l'étiquette 0\n",
    "plt.scatter(X[y == 1][:, 0], X[y == 1][:, 1], color='y', label='1') # en Jaune les fleurs ayant l'étiquette 1\n",
    "plt.legend(labels = (\"classe 0\", \"classe 1\"));\n",
    "plt.xlabel(\"Sepal Length\")\n",
    "plt.ylabel(\"Sepal Width\")"
   ]
  },
  {
   "cell_type": "markdown",
   "metadata": {},
   "source": [
    "### Entrainement d'un modèle de régression logistique\n"
   ]
  },
  {
   "cell_type": "markdown",
   "metadata": {},
   "source": [
    "Note : \n",
    "\n",
    "le paramètre C valorisé à (1e20 == 1 * 10^20) permet de jouer sur la régularisation. Ce paramètre sert à optimiser \n",
    "le modèle obtenu pour éviter notamment l'overfitting\n",
    "\n",
    "Ici on a donné une valeur grande (1e20) pour C pour \"réduire au maximum\" l'effet de régularisation. Une valeur trop \n",
    "petite induira une régularisation forte."
   ]
  },
  {
   "cell_type": "code",
   "execution_count": 5,
   "metadata": {},
   "outputs": [],
   "source": [
    "model = LogisticRegression(C=1e20) # construction d'un objet de Régression logistique"
   ]
  },
  {
   "cell_type": "code",
   "execution_count": 6,
   "metadata": {},
   "outputs": [
    {
     "name": "stdout",
     "output_type": "stream",
     "text": [
      "CPU times: user 0 ns, sys: 0 ns, total: 0 ns\n",
      "Wall time: 1.24 ms\n"
     ]
    },
    {
     "data": {
      "text/plain": [
       "LogisticRegression(C=1e+20, class_weight=None, dual=False, fit_intercept=True,\n",
       "          intercept_scaling=1, max_iter=100, multi_class='ovr', n_jobs=1,\n",
       "          penalty='l2', random_state=None, solver='liblinear', tol=0.0001,\n",
       "          verbose=0, warm_start=False)"
      ]
     },
     "execution_count": 6,
     "metadata": {},
     "output_type": "execute_result"
    }
   ],
   "source": [
    "%time model.fit(X, y) # Entrainement du modèle\n",
    "# la fonction %time est juste pour calculer le temps pris pour entrainer le modèle"
   ]
  },
  {
   "cell_type": "markdown",
   "metadata": {},
   "source": [
    "### Modèle obtenu\n",
    "\n",
    "Le fonction de score (voir article [logistic regression](https://mrmint.fr/logistic-regression-machine-learning-introduction-simple) est définie comme suit : \n",
    "\n",
    "\n",
    "\\begin{align}\n",
    "S(X^{(i)}) = \\theta_{0} + \\theta_{1} x_{1} + \\theta_{2} x_{2}\n",
    "\\end{align}\n",
    "\n",
    "avec :\n",
    "* $x_{1}$ la variable explicative \"Sepal Length\" \n",
    "* $x_{2}$ la variable \"Sepal Width\"\n",
    "\n",
    "Les différents $\\theta_{i}$ sont les coefficients du modèle. A noter que $\\theta_{0}$ se nomme aussi \"intercept\"\n",
    "\n",
    "Les coefficients de notre modèle entrainé peuvent se retrouver comme suit : \n"
   ]
  },
  {
   "cell_type": "code",
   "execution_count": 7,
   "metadata": {},
   "outputs": [
    {
     "data": {
      "text/plain": [
       "(array([-80.62725491]), array([[ 31.61988897, -28.31500665]]))"
      ]
     },
     "execution_count": 7,
     "metadata": {},
     "output_type": "execute_result"
    }
   ],
   "source": [
    "model.intercept_, model.coef_"
   ]
  },
  {
   "cell_type": "markdown",
   "metadata": {},
   "source": [
    "Ainsi notre fonction score est définit comme suit : \n",
    "\n",
    "\\begin{align}\n",
    "S(X) = -80.62725491 + 31.61988897 * x_{1} + -28.31500665 * x_{2}\n",
    "\\end{align}\n",
    "\n",
    "notes : \n",
    "* les valeurs des $\\theta$ peuvent varié un peu en fonction des valeurs calculées par la fonction fit()\n",
    "* la fonction de score $ S(X) $ est la fonction sur laquelle on appliquera la fonction logistique (nommée aussi fonction sigmoid) pour obtenir des probabilités d'appartenance à une classe"
   ]
  },
  {
   "cell_type": "markdown",
   "metadata": {},
   "source": [
    "## Prédiction du type de nouvelles Iris\n",
    "\n",
    "Vu qu'on a utilisé la totalité du jeu de données pour entrainer notre modèle de régression logistique, nous allons donner des valeurs au hasard de taille de longeur et de largeur de Sepal. On demandera au modèle prédictif de nous indiquer la classe de chacunes de ces observations."
   ]
  },
  {
   "cell_type": "code",
   "execution_count": 8,
   "metadata": {},
   "outputs": [
    {
     "data": {
      "text/plain": [
       "array([1, 1, 0, 0])"
      ]
     },
     "execution_count": 8,
     "metadata": {},
     "output_type": "execute_result"
    }
   ],
   "source": [
    "# définition de quatre observations\n",
    "Iries_To_Predict = [\n",
    "    [5.5, 2.5],\n",
    "    [7, 3],\n",
    "    [3,2],\n",
    "    [5,3]\n",
    "]\n",
    "\n",
    "# demande de prédiction\n",
    "model.predict(Iries_To_Predict)"
   ]
  }
 ],
 "metadata": {
  "celltoolbar": "Aucun(e)",
  "kernelspec": {
   "display_name": "Python 3",
   "language": "python",
   "name": "python3"
  },
  "language_info": {
   "codemirror_mode": {
    "name": "ipython",
    "version": 3
   },
   "file_extension": ".py",
   "mimetype": "text/x-python",
   "name": "python",
   "nbconvert_exporter": "python",
   "pygments_lexer": "ipython3",
   "version": "3.6.6"
  }
 },
 "nbformat": 4,
 "nbformat_minor": 1
}
